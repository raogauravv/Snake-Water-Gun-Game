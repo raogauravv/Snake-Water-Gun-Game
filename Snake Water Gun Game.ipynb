{
 "cells": [
  {
   "cell_type": "markdown",
   "metadata": {},
   "source": [
    "# SNAKE WATER GUN GAME"
   ]
  },
  {
   "cell_type": "code",
   "execution_count": 12,
   "metadata": {},
   "outputs": [
    {
     "name": "stdout",
     "output_type": "stream",
     "text": [
      "WELCOME TO THE SNAKE WATER GUN GAME\n",
      "Chose: Snake(s), Water(w), Gun(g), Quit(q): g\n",
      "You Win!\n",
      "Your Score: 1 Computer Score: 0\n",
      "Computer chose: s\n",
      "You chose: g\n",
      "Chose: Snake(s), Water(w), Gun(g), Quit(q): q\n",
      "ThankYou For Playing. See You Soon!\n"
     ]
    }
   ],
   "source": [
    "print('''WELCOME TO THE SNAKE WATER GUN GAME''')\n",
    "import random\n",
    "i=\"\"\n",
    "count1=0\n",
    "count2=0\n",
    "while i!=\"q\":\n",
    "    comp=random.randint(1,3)\n",
    "    if comp==1:\n",
    "        comp=\"s\"\n",
    "    if comp==2:\n",
    "        comp=\"w\"\n",
    "    if comp==3:\n",
    "        comp=\"g\"\n",
    "    user=input(\"Chose: Snake(s), Water(w), Gun(g), Quit(q): \")\n",
    "\n",
    "    if user==\"q\":\n",
    "        print(\"ThankYou For Playing. See You Soon!\")\n",
    "        break\n",
    "    elif user==comp:\n",
    "        result=(None)\n",
    "        \n",
    "    elif user==\"s\" and comp==\"w\":\n",
    "        result=(True)\n",
    "    elif user==\"s\" and comp==\"g\":\n",
    "        result=(False)\n",
    "    elif user==\"w\" and comp==\"s\":\n",
    "        result=(False)\n",
    "    elif user==\"w\" and comp==\"g\":\n",
    "        result=(True)\n",
    "    if user==\"g\" and comp==\"s\":\n",
    "        result=(True)\n",
    "    elif user==\"g\" and comp==\"w\":\n",
    "        result=(False)\n",
    "        \n",
    "    elif user!='s' and user!='w' and user!='g':\n",
    "        print(\"Enter the valid input\")\n",
    "        continue\n",
    "    if result==True:\n",
    "        print(\"You Win!\")\n",
    "        count1+=1\n",
    "        print(\"Your Score:\",count1,\"Computer Score:\",count2)\n",
    "    if result==None:\n",
    "        print(\"It is a Tie!\")\n",
    "        print(\"Your Score:\",count1,\"Computer Score:\",count2)\n",
    "    if result==False:\n",
    "        print(\"You Lose!\")\n",
    "        count2+=1\n",
    "        print(\"Your Score:\",count1,\"Computer Score:\",count2)\n",
    "    if count1==5 or count2==5:\n",
    "        print(\"The game has finished.\")\n",
    "        break\n",
    "    print(\"Computer chose:\",comp)\n",
    "    print(\"You chose:\",user)"
   ]
  },
  {
   "cell_type": "code",
   "execution_count": null,
   "metadata": {},
   "outputs": [],
   "source": []
  }
 ],
 "metadata": {
  "kernelspec": {
   "display_name": "Python 3",
   "language": "python",
   "name": "python3"
  },
  "language_info": {
   "codemirror_mode": {
    "name": "ipython",
    "version": 3
   },
   "file_extension": ".py",
   "mimetype": "text/x-python",
   "name": "python",
   "nbconvert_exporter": "python",
   "pygments_lexer": "ipython3",
   "version": "3.6.5"
  }
 },
 "nbformat": 4,
 "nbformat_minor": 2
}
